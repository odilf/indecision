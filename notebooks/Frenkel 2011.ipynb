{
 "cells": [
  {
   "cell_type": "code",
   "execution_count": 1,
   "id": "49115cc8-828a-4412-8a38-70daa9ad3424",
   "metadata": {},
   "outputs": [],
   "source": [
    "# General imports\n",
    "import matplotlib.pyplot as plt\n",
    "import numpy as np\n",
    "\n",
    "# Imports from our library!\n",
    "from indecision import particle, simulation"
   ]
  },
  {
   "cell_type": "code",
   "execution_count": 2,
   "id": "12eb16d1-1f00-4b77-9a15-1044ea0837c6",
   "metadata": {},
   "outputs": [],
   "source": [
    "# Example particle\n",
    "p = particle.MonoLigandParticle(\n",
    "    receptor_density=0.009,\n",
    "    binding_strength=1,\n",
    "    on_rate=1, off_rate=1\n",
    ")"
   ]
  },
  {
   "cell_type": "code",
   "execution_count": 3,
   "id": "42cc1273-0c82-4c62-a5de-f5598d383809",
   "metadata": {},
   "outputs": [],
   "source": [
    "# Define a quick extractor (TODO: This should be provided by the library)\n",
    "def extractor(states: list) -> float:\n",
    "    N = len(states)\n",
    "    attached = len(list(filter(lambda state: state.is_attached > 0, states)))\n",
    "\n",
    "    return attached / N\n",
    "\n",
    "N = 1000\n",
    "\n",
    "def theta(receptor_density: float) -> float:\n",
    "    p = particle.MonoLigandParticle(\n",
    "        receptor_density=receptor_density,\n",
    "        binding_strength=1,\n",
    "        on_rate=10, off_rate=1\n",
    "    )\n",
    "    \n",
    "    bind_ratios = [b for b in simulation.simulate_until(\n",
    "        particle=p,\n",
    "        number_of_particles=N,\n",
    "        extractor=extractor,\n",
    "        steps=100\n",
    "    )]\n",
    "\n",
    "    return bind_ratios[-1]"
   ]
  },
  {
   "cell_type": "code",
   "execution_count": 6,
   "id": "6f8fcec4-6732-4d77-9ea1-caa85bbe6749",
   "metadata": {},
   "outputs": [
    {
     "name": "stdout",
     "output_type": "stream",
     "text": [
      "Took 78.26936411857605\n"
     ]
    }
   ],
   "source": [
    "import time\n",
    "\n",
    "start = time.time()\n",
    "\n",
    "# Calculate the thetas for different receptor densities\n",
    "receptor_densities = np.linspace(0.5, 1, num=100)\n",
    "thetas = [theta(rd) for rd in receptor_densities]\n",
    "\n",
    "end = time.time()\n",
    "print(f\"Took {end - start}\")"
   ]
  },
  {
   "cell_type": "code",
   "execution_count": 5,
   "id": "8ec3a405-554e-437e-8bff-acd81d3c715e",
   "metadata": {},
   "outputs": [
    {
     "data": {
      "text/plain": [
       "<matplotlib.collections.PathCollection at 0x10d421a90>"
      ]
     },
     "execution_count": 5,
     "metadata": {},
     "output_type": "execute_result"
    },
    {
     "data": {
      "image/png": "[encoded data removed]",
      "text/plain": [
       "<Figure size 640x480 with 1 Axes>"
      ]
     },
     "metadata": {},
     "output_type": "display_data"
    }
   ],
   "source": [
    "# Plot it. We get a linear curve, which is what we expect for mono-ligand particles. \n",
    "# plt.xscale('log')\n",
    "# plt.yscale('log')\n",
    "plt.scatter(receptor_densities * N, thetas)\n",
    "\n",
    "# receptor_densities = np.logspace(-5, -1, base=10, num=5)\n",
    "\n",
    "# receptor_densities"
   ]
  },
  {
   "cell_type": "code",
   "execution_count": null,
   "id": "a0d5d735-ca15-40c4-8315-71aba65d2ad0",
   "metadata": {},
   "outputs": [],
   "source": []
  }
 ],
 "metadata": {
  "kernelspec": {
   "display_name": "Python 3 (ipykernel)",
   "language": "python",
   "name": "python3"
  },
  "language_info": {
   "codemirror_mode": {
    "name": "ipython",
    "version": 3
   },
   "file_extension": ".py",
   "mimetype": "text/x-python",
   "name": "python",
   "nbconvert_exporter": "python",
   "pygments_lexer": "ipython3",
   "version": "3.13.0"
  }
 },
 "nbformat": 4,
 "nbformat_minor": 5
}

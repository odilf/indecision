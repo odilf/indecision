{
 "cells": [
  {
   "cell_type": "code",
   "execution_count": 1,
   "id": "49115cc8-828a-4412-8a38-70daa9ad3424",
   "metadata": {},
   "outputs": [],
   "source": [
    "import indecision"
   ]
  },
  {
   "cell_type": "code",
   "execution_count": 3,
   "id": "12eb16d1-1f00-4b77-9a15-1044ea0837c6",
   "metadata": {},
   "outputs": [
    {
     "data": {
      "text/plain": [
       "<function indecision.hello() -> str>"
      ]
     },
     "execution_count": 3,
     "metadata": {},
     "output_type": "execute_result"
    }
   ],
   "source": [
    "indecision.hello"
   ]
  },
  {
   "cell_type": "code",
   "execution_count": null,
   "id": "42cc1273-0c82-4c62-a5de-f5598d383809",
   "metadata": {},
   "outputs": [],
   "source": []
  }
 ],
 "metadata": {
  "kernelspec": {
   "display_name": "Python 3 (ipykernel)",
   "language": "python",
   "name": "python3"
  },
  "language_info": {
   "codemirror_mode": {
    "name": "ipython",
    "version": 3
   },
   "file_extension": ".py",
   "mimetype": "text/x-python",
   "name": "python",
   "nbconvert_exporter": "python",
   "pygments_lexer": "ipython3",
   "version": "3.13.0"
  }
 },
 "nbformat": 4,
 "nbformat_minor": 5
}
